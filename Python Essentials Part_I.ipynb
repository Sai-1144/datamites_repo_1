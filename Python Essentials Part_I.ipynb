{
 "cells": [
  {
   "cell_type": "markdown",
   "metadata": {
    "id": "5573a58b"
   },
   "source": [
    "# What is Jupyter  Notebook\n",
    "* The Jupyter Notebook is an open-source web application that allows data scientists to create and share documents that           integrate live code, equations, computational output, visualizations, and other multimedia resources,\n",
    "\n",
    "* Uses include data cleaning and transformation, numerical simulation, statistical modeling, data visualization, machine         learning, and much more.\n"
   ]
  },
  {
   "cell_type": "code",
   "execution_count": 18,
   "id": "ce0bb517",
   "metadata": {},
   "outputs": [],
   "source": [
    "# Heading\n",
    "## 2nd Heading"
   ]
  },
  {
   "cell_type": "markdown",
   "metadata": {
    "id": "1c454286"
   },
   "source": [
    "## Tutorial\n",
    "- Interactive\n",
    "- Results/outputs are stored so it is easy to review\n",
    "- Friendly for documentation\n",
    "- No limitation from performance\n",
    "- helpful shortcuts\n",
    "- Industry standard for all data science, ML, AI projects.\n",
    "\n",
    "<p> Extension of jupyter file is ipynb (i python notebook, previous name of Jupyter) </p>\n",
    "\n"
   ]
  },
  {
   "cell_type": "markdown",
   "metadata": {},
   "source": [
    "## Cell Types"
   ]
  },
  {
   "cell_type": "code",
   "execution_count": null,
   "metadata": {},
   "outputs": [],
   "source": [
    "# A Code cell is the default cell type in Jupyter\n",
    "40 + 5 - 16"
   ]
  },
  {
   "cell_type": "raw",
   "metadata": {},
   "source": [
    "Any execution of code and performing operations must take place in a code cell."
   ]
  },
  {
   "cell_type": "markdown",
   "metadata": {
    "id": "ee8239e8"
   },
   "source": [
    "## Markdown\n",
    "Text may be styled within a markdown cell. \n",
    "**This is handy for**\n",
    "### Section Headings \n",
    "or\n",
    "#### Titles\n",
    "_This allows easy viewing of your project in an organized fashion._"
   ]
  },
  {
   "cell_type": "raw",
   "metadata": {
    "id": "291f7652"
   },
   "source": [
    "The third cell type Raw cannot perform executive tasks nor has any styling options. However, it is preferred for plain text documentation and any explanation of code or analytics, particularly if there are passages or paragraphs."
   ]
  },
  {
   "cell_type": "markdown",
   "metadata": {
    "id": "e6babead",
    "jp-MarkdownHeadingCollapsed": true
   },
   "source": [
    "# Short Cuts\n",
    "\n",
    "[shift] + [enter] : run a cell\n",
    "\n",
    "Command mode:\n",
    "a : insert cell above\n",
    "\n",
    "b : insert cell below\n",
    "\n",
    "dd : delete a cell\n",
    "\n",
    "z : undo a delete cell\n",
    "\n",
    "r : convert cell to raw cell\n",
    "\n",
    "m : convert cell to Markdown cell\n",
    "\n",
    "y : convert cell to code cell\n",
    "\n",
    "c: copy a cell\n",
    "\n",
    "v : paste a cell\n",
    "\n",
    "x : cut a cell\n",
    "\n",
    "o : toggle output\n",
    "\n",
    "## Edit Mode:\n",
    "\n",
    "Ctrl + C : copy a text\n",
    "\n",
    "Ctrl + V : paste\n",
    "\n",
    "Ctrl + X : cut\n",
    "\n",
    "Ctrl + Z : undo"
   ]
  },
  {
   "cell_type": "markdown",
   "metadata": {
    "id": "cd840a4f"
   },
   "source": [
    "# Keywords\n",
    "* Keywords are reserved words in Python with designated meanings.\n",
    "* These cannot be used as identifiers to name objects."
   ]
  },
  {
   "cell_type": "code",
   "execution_count": 2,
   "metadata": {
    "colab": {
     "base_uri": "https://localhost:8080/"
    },
    "executionInfo": {
     "elapsed": 7,
     "status": "ok",
     "timestamp": 1679915408933,
     "user": {
      "displayName": "Jitendra Rathod",
      "userId": "08588782662248261812"
     },
     "user_tz": -330
    },
    "id": "0ab1d4b0",
    "outputId": "76093bce-910a-4418-f32f-3b52a7b24e2e"
   },
   "outputs": [
    {
     "name": "stdout",
     "output_type": "stream",
     "text": [
      "['False', 'None', 'True', 'and', 'as', 'assert', 'async', 'await', 'break', 'class', 'continue', 'def', 'del', 'elif', 'else', 'except', 'finally', 'for', 'from', 'global', 'if', 'import', 'in', 'is', 'lambda', 'nonlocal', 'not', 'or', 'pass', 'raise', 'return', 'try', 'while', 'with', 'yield']\n"
     ]
    }
   ],
   "source": [
    "import keyword\n",
    "print(keyword.kwlist)  # listing out the keywords within Python"
   ]
  },
  {
   "cell_type": "code",
   "execution_count": 3,
   "metadata": {
    "id": "7a9ef08d"
   },
   "outputs": [],
   "source": [
    "# len(keyword.kwlist)"
   ]
  },
  {
   "cell_type": "markdown",
   "metadata": {
    "id": "c15e70c8"
   },
   "source": [
    "# Identifiers"
   ]
  },
  {
   "cell_type": "markdown",
   "metadata": {
    "id": "41911e15"
   },
   "source": [
    "* An identifier is the name we provide to an entity such as a function or variable.\n",
    "* It helps in differentiating one entity from other.\n",
    "  \n",
    "_There are certain dos and don'ts to observe while picking an identifier._"
   ]
  },
  {
   "cell_type": "code",
   "execution_count": 8,
   "id": "83b8cf1f",
   "metadata": {},
   "outputs": [],
   "source": [
    "#1, YOu cannot start  with a digit\n",
    "\n",
    "name_1 = \"Sattu\""
   ]
  },
  {
   "cell_type": "code",
   "execution_count": 10,
   "id": "505cd018",
   "metadata": {},
   "outputs": [],
   "source": [
    "#2 No Special characters are allowed in identifier except\n",
    "\n",
    "name_1 = \"Sattu\""
   ]
  },
  {
   "cell_type": "code",
   "execution_count": 11,
   "id": "30374384",
   "metadata": {},
   "outputs": [],
   "source": [
    "#3 Python is case sensitive\n",
    "\n",
    "City = \"Delhi\"\n",
    "City = \"Mumbai\""
   ]
  },
  {
   "cell_type": "code",
   "execution_count": null,
   "id": "b926f681",
   "metadata": {},
   "outputs": [],
   "source": [
    "#4 K"
   ]
  },
  {
   "cell_type": "code",
   "execution_count": null,
   "metadata": {
    "id": "c100d47b"
   },
   "outputs": [],
   "source": [
    "word@123='abc' # cannot use special symbols"
   ]
  },
  {
   "cell_type": "code",
   "execution_count": null,
   "id": "b415a735",
   "metadata": {},
   "outputs": [],
   "source": []
  },
  {
   "cell_type": "code",
   "execution_count": null,
   "metadata": {
    "id": "57ac31ff"
   },
   "outputs": [],
   "source": [
    "import=153 # Keywords cannot be used as identifier"
   ]
  },
  {
   "cell_type": "code",
   "execution_count": null,
   "metadata": {
    "id": "2bba50bc"
   },
   "outputs": [],
   "source": [
    "\"\"\"Correct way of defining an identifier:\n",
    "(Identifiers can be a combination of letters in lowercase (a to z) or uppercase\n",
    "and only special character allowed is _ )\"\"\"\n",
    "var_1 = 14 # the variable var_1 has been initialised with a value of 14"
   ]
  },
  {
   "cell_type": "code",
   "execution_count": null,
   "metadata": {
    "id": "1f250660"
   },
   "outputs": [],
   "source": [
    "VAR_1=2 # new variable assigned\n",
    "var_1 + VAR_1"
   ]
  },
  {
   "cell_type": "code",
   "execution_count": null,
   "metadata": {
    "id": "683313e3"
   },
   "outputs": [],
   "source": [
    "city_ind = \"Mumbai\""
   ]
  },
  {
   "cell_type": "markdown",
   "metadata": {
    "id": "97b903b7"
   },
   "source": [
    "# Comments\n",
    "The use of comments in a code cell can explain the method or operation in use. Commenting helps to\n",
    "- Improve readability\n",
    "- Make for a quick review of the work"
   ]
  },
  {
   "cell_type": "code",
   "execution_count": null,
   "metadata": {
    "id": "bba78a99"
   },
   "outputs": [],
   "source": [
    "# Hashtag is effective for short phrases\n",
    "units = 10\n",
    "sell_price = 120\n",
    "total = units*sell_price  # Total amount "
   ]
  },
  {
   "cell_type": "code",
   "execution_count": null,
   "metadata": {
    "id": "1ca2252d"
   },
   "outputs": [],
   "source": [
    "total # if we have long sentences and need to go to the next line, \n",
    "# we cannot continue it without another hashtag"
   ]
  },
  {
   "cell_type": "markdown",
   "metadata": {
    "id": "2f772d53"
   },
   "source": [
    "#### The syntax is designed such that the comment is ignored by the kernel during execution of the cell."
   ]
  },
  {
   "cell_type": "code",
   "execution_count": 19,
   "metadata": {
    "id": "31a80171"
   },
   "outputs": [
    {
     "data": {
      "text/plain": [
       "75"
      ]
     },
     "execution_count": 19,
     "metadata": {},
     "output_type": "execute_result"
    }
   ],
   "source": [
    "'''\n",
    "Multi-line remarks becomes easy to \n",
    "express with this style of commenting.\n",
    "'''\n",
    "num1 = 25\n",
    "num2 = 50\n",
    "sum = num1 + num2\n",
    "sum"
   ]
  },
  {
   "cell_type": "code",
   "execution_count": null,
   "metadata": {
    "id": "2bba50bc"
   },
   "outputs": [],
   "source": [
    "\"\"\"Correct way of defining an identifier:\n",
    "(Identifiers can be a combination of letters in lowercase (a to z) or uppercase\n",
    "and only special character allowed is _ )\"\"\"\n",
    "var_1 = 14 # the variable var_1 has been initialised with a value of 14"
   ]
  },
  {
   "cell_type": "markdown",
   "metadata": {
    "id": "a76869bd"
   },
   "source": [
    "# Statements\n",
    "* Instructions that a Python interpreter can execute"
   ]
  },
  {
   "cell_type": "code",
   "execution_count": 28,
   "metadata": {
    "id": "49b580e9"
   },
   "outputs": [
    {
     "data": {
      "text/plain": [
       "350"
      ]
     },
     "execution_count": 28,
     "metadata": {},
     "output_type": "execute_result"
    }
   ],
   "source": [
    "# Single line statement\n",
    "p1 = 20 + 30 +  40  +  50 + 60 + 70 + 80\n",
    "p1"
   ]
  },
  {
   "cell_type": "code",
   "execution_count": 30,
   "metadata": {
    "id": "0465af83"
   },
   "outputs": [
    {
     "data": {
      "text/plain": [
       "350"
      ]
     },
     "execution_count": 30,
     "metadata": {},
     "output_type": "execute_result"
    }
   ],
   "source": [
    "# Multiple line statement\n",
    "p1 = 20 + 30      \\\n",
    "+  40  +  50 + 60  \\\n",
    "+ 70 + 80 \n",
    "p1"
   ]
  },
  {
   "cell_type": "markdown",
   "metadata": {
    "id": "a48922a0"
   },
   "source": [
    "# Variables"
   ]
  },
  {
   "cell_type": "markdown",
   "metadata": {
    "id": "33961071"
   },
   "source": [
    "*  A Python variable creates a reserved memory location to store a value.\n",
    "*  A variable can be initialised by assigning some value to begin with."
   ]
  },
  {
   "cell_type": "code",
   "execution_count": null,
   "metadata": {
    "id": "85427289"
   },
   "outputs": [],
   "source": [
    "k=30 ## variable creation"
   ]
  },
  {
   "cell_type": "code",
   "execution_count": null,
   "metadata": {
    "id": "3670495c"
   },
   "outputs": [],
   "source": [
    "k ## calling of variable"
   ]
  },
  {
   "cell_type": "code",
   "execution_count": 31,
   "id": "f5d177bb",
   "metadata": {},
   "outputs": [
    {
     "name": "stdout",
     "output_type": "stream",
     "text": [
      "6\n"
     ]
    }
   ],
   "source": [
    "a = 20\n",
    "b = 4\n",
    "a = 2\n",
    "\n",
    "print(a+b) # print is a function"
   ]
  },
  {
   "cell_type": "code",
   "execution_count": null,
   "metadata": {
    "id": "fd3cbba9"
   },
   "outputs": [],
   "source": [
    "print(k) ## print the variable"
   ]
  },
  {
   "cell_type": "code",
   "execution_count": null,
   "metadata": {},
   "outputs": [],
   "source": [
    "tigers = 2500\n",
    "lions = 1450\n",
    "tigers\n",
    "lions  # attempt to call multiple variables"
   ]
  },
  {
   "cell_type": "code",
   "execution_count": null,
   "metadata": {},
   "outputs": [],
   "source": [
    "print(tigers) # requires print() function to execute multiple displays\n",
    "print(lions)"
   ]
  },
  {
   "cell_type": "markdown",
   "metadata": {
    "id": "c4e3a2d2"
   },
   "source": [
    "## Variable Assignment"
   ]
  },
  {
   "cell_type": "code",
   "execution_count": 34,
   "metadata": {
    "id": "f741d376",
    "scrolled": true
   },
   "outputs": [
    {
     "name": "stdout",
     "output_type": "stream",
     "text": [
      "10\n",
      "2.57\n",
      "Python Language\n"
     ]
    }
   ],
   "source": [
    "intvar = 10 # Integer variable\n",
    "floatvar = 2.57 # Float Variable\n",
    "strvar = \"Python Language\" # String variable\n",
    "print(intvar)\n",
    "print(floatvar)\n",
    "print(strvar)"
   ]
  },
  {
   "cell_type": "markdown",
   "metadata": {
    "id": "aff84426"
   },
   "source": [
    "### Multiple Assignment"
   ]
  },
  {
   "cell_type": "code",
   "execution_count": 33,
   "metadata": {
    "id": "d4683b2a",
    "scrolled": true
   },
   "outputs": [
    {
     "name": "stdout",
     "output_type": "stream",
     "text": [
      "Species: Elephant\n",
      "Lifespan in years: 50\n",
      "Average blood pressure: 125.6\n"
     ]
    }
   ],
   "source": [
    "species,age,bp = \"Elephant\",50,125.6\n",
    "# Using commas to separate variables\n",
    "print(\"Species:\",species)\n",
    "print(\"Lifespan in years:\",age)\n",
    "print(\"Average blood pressure:\",bp)"
   ]
  },
  {
   "cell_type": "code",
   "execution_count": 32,
   "metadata": {
    "id": "1644ff55",
    "scrolled": true
   },
   "outputs": [
    {
     "name": "stdout",
     "output_type": "stream",
     "text": [
      "44 44 44 44\n"
     ]
    }
   ],
   "source": [
    "p1 = p2 = p3 = p4 = 44\n",
    "# All variables pointing to same value\n",
    "print(p1,p2,p3,p4)"
   ]
  },
  {
   "cell_type": "markdown",
   "metadata": {
    "id": "37f99688"
   },
   "source": [
    "# Data Types"
   ]
  },
  {
   "cell_type": "markdown",
   "metadata": {
    "id": "5a9a8cd3"
   },
   "source": [
    "## Numeric\n",
    "**Integer**: denoted as int \n",
    "\n",
    "**Float**: denoted as float\n"
   ]
  },
  {
   "cell_type": "code",
   "execution_count": null,
   "metadata": {
    "id": "3217d802"
   },
   "outputs": [],
   "source": [
    "import sys"
   ]
  },
  {
   "cell_type": "code",
   "execution_count": 36,
   "id": "57b656df",
   "metadata": {},
   "outputs": [
    {
     "data": {
      "text/plain": [
       "int"
      ]
     },
     "execution_count": 36,
     "metadata": {},
     "output_type": "execute_result"
    }
   ],
   "source": [
    "#Numericals\n",
    "\n",
    "a = -10\n",
    "type(a) # type() function is used to check the type of variable"
   ]
  },
  {
   "cell_type": "code",
   "execution_count": 37,
   "id": "b4111663",
   "metadata": {},
   "outputs": [
    {
     "data": {
      "text/plain": [
       "float"
      ]
     },
     "execution_count": 37,
     "metadata": {},
     "output_type": "execute_result"
    }
   ],
   "source": [
    "b = 12.0\n",
    "type(b) # type() function is used to check the type of variable\n"
   ]
  },
  {
   "cell_type": "code",
   "execution_count": 39,
   "id": "2ea3a184",
   "metadata": {},
   "outputs": [
    {
     "data": {
      "text/plain": [
       "complex"
      ]
     },
     "execution_count": 39,
     "metadata": {},
     "output_type": "execute_result"
    }
   ],
   "source": [
    "#Complex numbers\n",
    "\n",
    "a = 4j\n",
    "type(a) # type() function is used to check the type of variable\n"
   ]
  },
  {
   "cell_type": "code",
   "execution_count": null,
   "metadata": {
    "colab": {
     "base_uri": "https://localhost:8080/"
    },
    "executionInfo": {
     "elapsed": 6,
     "status": "ok",
     "timestamp": 1696742969825,
     "user": {
      "displayName": "Rama Chandra Kotturu",
      "userId": "02243285469857073193"
     },
     "user_tz": -330
    },
    "id": "2fa04823",
    "outputId": "f993dd81-c7af-4ede-db2b-00cf212e2473"
   },
   "outputs": [],
   "source": [
    "val2 = 92.78 # Float data type\n",
    "print(val2)\n",
    "print(type(val2)) # type of object\n",
    "print(sys.getsizeof(val2)) # size of float object in bytes\n",
    "print(val2, \" is float?\", isinstance(val2, float)) # Val2 is an instance of float"
   ]
  },
  {
   "cell_type": "code",
   "execution_count": null,
   "metadata": {
    "id": "61eda00f"
   },
   "outputs": [],
   "source": [
    "val3 = 25 + 10j # Complex data type\n",
    "print(val3)\n",
    "print(type(val3)) # type of object\n",
    "print(sys.getsizeof(val3)) # size of float object in bytes\n",
    "print(val3, \" is complex?\", isinstance(val3, complex)) # val3 is an instance of complex"
   ]
  },
  {
   "cell_type": "markdown",
   "metadata": {
    "id": "d7c74ac7"
   },
   "source": [
    "## Boolean\n",
    "Boolean datatype can have only two possible values: True or False"
   ]
  },
  {
   "cell_type": "code",
   "execution_count": 47,
   "id": "7693e34f",
   "metadata": {},
   "outputs": [
    {
     "data": {
      "text/plain": [
       "False"
      ]
     },
     "execution_count": 47,
     "metadata": {},
     "output_type": "execute_result"
    }
   ],
   "source": [
    "#Boolean \n",
    "4>5"
   ]
  },
  {
   "cell_type": "code",
   "execution_count": 50,
   "id": "2e07a85b",
   "metadata": {},
   "outputs": [
    {
     "name": "stdout",
     "output_type": "stream",
     "text": [
      "I am Having a good day.\n"
     ]
    }
   ],
   "source": [
    "#str\n",
    "str1 = \"I am Having a good day.\"\n",
    "print(str1)"
   ]
  },
  {
   "cell_type": "code",
   "execution_count": 6,
   "id": "99d7e7c6",
   "metadata": {},
   "outputs": [
    {
     "data": {
      "text/plain": [
       "'987654321'"
      ]
     },
     "execution_count": 6,
     "metadata": {},
     "output_type": "execute_result"
    }
   ],
   "source": [
    "# Slicing\n",
    "\n",
    "# str1[start_index:end_index:step ]\n",
    "str1= \"123456789\"\n",
    "str1[::-1] # reverse the string\n"
   ]
  },
  {
   "cell_type": "code",
   "execution_count": 13,
   "id": "c294fa97",
   "metadata": {},
   "outputs": [
    {
     "data": {
      "text/plain": [
       "'Stu'"
      ]
     },
     "execution_count": 13,
     "metadata": {},
     "output_type": "execute_result"
    }
   ],
   "source": [
    "# Slicing for my practice\n",
    "\n",
    "str2= \"Sattu Yadav\"\n",
    "str2[0::2] # It is ignoring the first and second string\n",
    "str2[0::3] # Why it is not printing because it will always print last string  \n",
    "str2[0:5:2] # Slicing the string"
   ]
  },
  {
   "cell_type": "code",
   "execution_count": null,
   "id": "10737e81",
   "metadata": {},
   "outputs": [],
   "source": []
  },
  {
   "cell_type": "code",
   "execution_count": 51,
   "id": "957d4c2a",
   "metadata": {},
   "outputs": [
    {
     "data": {
      "text/plain": [
       "'I'"
      ]
     },
     "execution_count": 51,
     "metadata": {},
     "output_type": "execute_result"
    }
   ],
   "source": [
    "#Indexing\n",
    "\n",
    "str1[0] # First character"
   ]
  },
  {
   "cell_type": "code",
   "execution_count": 40,
   "metadata": {
    "id": "052cf431"
   },
   "outputs": [],
   "source": [
    "on=True"
   ]
  },
  {
   "cell_type": "code",
   "execution_count": 41,
   "metadata": {
    "id": "9cb97c89"
   },
   "outputs": [],
   "source": [
    "off=False"
   ]
  },
  {
   "cell_type": "code",
   "execution_count": 42,
   "metadata": {
    "id": "0f453174"
   },
   "outputs": [
    {
     "data": {
      "text/plain": [
       "bool"
      ]
     },
     "execution_count": 42,
     "metadata": {},
     "output_type": "execute_result"
    }
   ],
   "source": [
    "type(on)"
   ]
  },
  {
   "cell_type": "code",
   "execution_count": 43,
   "metadata": {
    "id": "6211346a"
   },
   "outputs": [
    {
     "data": {
      "text/plain": [
       "True"
      ]
     },
     "execution_count": 43,
     "metadata": {},
     "output_type": "execute_result"
    }
   ],
   "source": [
    "isinstance(off, bool)"
   ]
  },
  {
   "cell_type": "code",
   "execution_count": 44,
   "metadata": {
    "id": "6211346a"
   },
   "outputs": [
    {
     "data": {
      "text/plain": [
       "True"
      ]
     },
     "execution_count": 44,
     "metadata": {},
     "output_type": "execute_result"
    }
   ],
   "source": [
    "isinstance(off, int) # qualifies as int"
   ]
  },
  {
   "cell_type": "code",
   "execution_count": 45,
   "metadata": {
    "id": "8c600c49"
   },
   "outputs": [
    {
     "data": {
      "text/plain": [
       "False"
      ]
     },
     "execution_count": 45,
     "metadata": {},
     "output_type": "execute_result"
    }
   ],
   "source": [
    "bool(0)"
   ]
  },
  {
   "cell_type": "code",
   "execution_count": 46,
   "metadata": {
    "id": "5b17409e"
   },
   "outputs": [
    {
     "data": {
      "text/plain": [
       "True"
      ]
     },
     "execution_count": 46,
     "metadata": {},
     "output_type": "execute_result"
    }
   ],
   "source": [
    "bool(-98) # Anything apart from 0 is True"
   ]
  },
  {
   "cell_type": "markdown",
   "metadata": {
    "id": "b40a9db7"
   },
   "source": [
    "## String"
   ]
  },
  {
   "cell_type": "markdown",
   "metadata": {
    "id": "6580adac"
   },
   "source": [
    "> A sequence of characters is a string."
   ]
  },
  {
   "cell_type": "code",
   "execution_count": null,
   "metadata": {
    "id": "54346673"
   },
   "outputs": [],
   "source": [
    "doc = \"It's a fine day.\"\n",
    "doc"
   ]
  },
  {
   "cell_type": "code",
   "execution_count": null,
   "metadata": {},
   "outputs": [],
   "source": [
    "print(\"Type of the document:\",type(doc))"
   ]
  },
  {
   "cell_type": "code",
   "execution_count": null,
   "metadata": {
    "id": "34012e79"
   },
   "outputs": [],
   "source": [
    "address = '#2 Main Street, 56/3' # Define string using single quotes\n",
    "print(address)"
   ]
  },
  {
   "cell_type": "markdown",
   "metadata": {
    "id": "21e9ae35"
   },
   "source": [
    "### String indexing"
   ]
  },
  {
   "cell_type": "code",
   "execution_count": null,
   "metadata": {
    "id": "cd4091f8",
    "scrolled": true
   },
   "outputs": [],
   "source": [
    "str1='HELLO PYTHON'"
   ]
  },
  {
   "cell_type": "code",
   "execution_count": null,
   "metadata": {
    "id": "bb12a213"
   },
   "outputs": [],
   "source": [
    "str1[5] # First character in string \"str1\"\n"
   ]
  },
  {
   "cell_type": "code",
   "execution_count": null,
   "metadata": {
    "id": "dead0eea"
   },
   "outputs": [],
   "source": [
    "str1[-7] # reverse indexing possible"
   ]
  },
  {
   "cell_type": "code",
   "execution_count": null,
   "metadata": {
    "id": "f4bc7dfc"
   },
   "outputs": [],
   "source": [
    "len(str1) # Number of chars in given string"
   ]
  },
  {
   "cell_type": "code",
   "execution_count": null,
   "metadata": {
    "id": "686c1440"
   },
   "outputs": [],
   "source": [
    "str1[-1] # Last character \n"
   ]
  },
  {
   "cell_type": "code",
   "execution_count": null,
   "metadata": {
    "id": "123531e7"
   },
   "outputs": [],
   "source": [
    "str1[6] #Fetch 7th element of the string"
   ]
  },
  {
   "cell_type": "markdown",
   "metadata": {
    "id": "617e14ce"
   },
   "source": [
    "### String Slicing"
   ]
  },
  {
   "cell_type": "code",
   "execution_count": null,
   "metadata": {
    "id": "51e851cb"
   },
   "outputs": [],
   "source": [
    "str1[0:5] ## start:end"
   ]
  },
  {
   "cell_type": "code",
   "execution_count": null,
   "metadata": {
    "id": "8146ce76"
   },
   "outputs": [],
   "source": [
    "str1"
   ]
  },
  {
   "cell_type": "code",
   "execution_count": null,
   "metadata": {
    "id": "0882fb00"
   },
   "outputs": [],
   "source": [
    "str2='Data is new fuel'\n",
    "# Task:-Extract new and data from above string"
   ]
  },
  {
   "cell_type": "code",
   "execution_count": null,
   "metadata": {
    "id": "ed2661d2",
    "outputId": "a91a95d2-6843-4417-981b-3dbc5fc4b82c"
   },
   "outputs": [],
   "source": [
    "str1[:] # whole string"
   ]
  },
  {
   "cell_type": "code",
   "execution_count": null,
   "metadata": {
    "id": "23b33ead",
    "outputId": "6632b0cd-c8ae-4bd2-dd2e-f3493f46d40e"
   },
   "outputs": [],
   "source": [
    "str1[3:] # default end ~ end of string"
   ]
  },
  {
   "cell_type": "code",
   "execution_count": null,
   "metadata": {
    "id": "d4627050",
    "outputId": "5c27554e-12c7-4311-9651-0b097abd0119"
   },
   "outputs": [],
   "source": [
    "str1[:6] # default start ~ beginning of string"
   ]
  },
  {
   "cell_type": "code",
   "execution_count": null,
   "metadata": {
    "id": "5b8ffccc",
    "outputId": "35ec8739-4c94-4b99-cdbf-f6bb28b14f8d"
   },
   "outputs": [],
   "source": [
    "str1[-10:-5]"
   ]
  },
  {
   "cell_type": "code",
   "execution_count": null,
   "metadata": {
    "id": "d5094f73"
   },
   "outputs": [],
   "source": [
    "str1"
   ]
  },
  {
   "cell_type": "code",
   "execution_count": null,
   "metadata": {
    "id": "27040e35",
    "outputId": "c62e63e0-645a-4d0b-b069-f4afdd3b20ee"
   },
   "outputs": [],
   "source": [
    "# str1[start:end:step]\n",
    "\n",
    "str1[::-2]"
   ]
  },
  {
   "cell_type": "markdown",
   "metadata": {
    "id": "26ea1f22"
   },
   "source": [
    "### Update and Delete string"
   ]
  },
  {
   "cell_type": "markdown",
   "metadata": {
    "id": "8be8dec6"
   },
   "source": [
    "* Strings are immutable which means elements of a\n",
    "string cannot be changed once the they are assigned with\n",
    "any values\n"
   ]
  },
  {
   "cell_type": "code",
   "execution_count": 2,
   "id": "412c04b2",
   "metadata": {},
   "outputs": [
    {
     "ename": "TypeError",
     "evalue": "'str' object does not support item assignment",
     "output_type": "error",
     "traceback": [
      "\u001b[31m---------------------------------------------------------------------------\u001b[39m",
      "\u001b[31mTypeError\u001b[39m                                 Traceback (most recent call last)",
      "\u001b[36mCell\u001b[39m\u001b[36m \u001b[39m\u001b[32mIn[2]\u001b[39m\u001b[32m, line 3\u001b[39m\n\u001b[32m      1\u001b[39m \u001b[38;5;66;03m#String is immutable in nature\u001b[39;00m\n\u001b[32m      2\u001b[39m str1 = \u001b[33m'\u001b[39m\u001b[33mHello\u001b[39m\u001b[33m'\u001b[39m \u001b[38;5;66;03m# Cannot change the string\u001b[39;00m\n\u001b[32m----> \u001b[39m\u001b[32m3\u001b[39m \u001b[43mstr1\u001b[49m\u001b[43m[\u001b[49m\u001b[32;43m0\u001b[39;49m\u001b[43m]\u001b[49m = \u001b[33m\"\u001b[39m\u001b[33mJ\u001b[39m\u001b[33m\"\u001b[39m\n",
      "\u001b[31mTypeError\u001b[39m: 'str' object does not support item assignment"
     ]
    }
   ],
   "source": [
    "#String is immutable in nature\n",
    "str1 = 'Hello' # Cannot change the string\n",
    "str1[0] = \"J\""
   ]
  },
  {
   "cell_type": "code",
   "execution_count": 11,
   "id": "137a9f28",
   "metadata": {},
   "outputs": [
    {
     "name": "stdout",
     "output_type": "stream",
     "text": [
      "Jello\n"
     ]
    }
   ],
   "source": [
    "str2 = str1.replace(\"H\", \"J\") # Replacing the string\n",
    "print(str2) # Printing the new string"
   ]
  },
  {
   "cell_type": "code",
   "execution_count": 12,
   "id": "d250f2c2",
   "metadata": {},
   "outputs": [
    {
     "name": "stdout",
     "output_type": "stream",
     "text": [
      "Jhello\n"
     ]
    }
   ],
   "source": [
    "str2 = str1.replace(\"Hello\", \"Jhello\") # Replacing the string\n",
    "print (str2) # Printing the new string"
   ]
  },
  {
   "cell_type": "code",
   "execution_count": null,
   "id": "942e43d4",
   "metadata": {},
   "outputs": [],
   "source": []
  },
  {
   "cell_type": "code",
   "execution_count": null,
   "id": "3313edbd",
   "metadata": {},
   "outputs": [],
   "source": []
  },
  {
   "cell_type": "code",
   "execution_count": 13,
   "metadata": {
    "id": "b48e5be5"
   },
   "outputs": [
    {
     "data": {
      "text/plain": [
       "'Data'"
      ]
     },
     "execution_count": 13,
     "metadata": {},
     "output_type": "execute_result"
    }
   ],
   "source": [
    "course='Data Science'\n",
    "course[:4]"
   ]
  },
  {
   "cell_type": "code",
   "execution_count": 14,
   "metadata": {
    "colab": {
     "base_uri": "https://localhost:8080/",
     "height": 211
    },
    "executionInfo": {
     "elapsed": 9,
     "status": "error",
     "timestamp": 1696745745237,
     "user": {
      "displayName": "Rama Chandra Kotturu",
      "userId": "02243285469857073193"
     },
     "user_tz": -330
    },
    "id": "67aec6de",
    "outputId": "c129477c-3761-4bc1-b99e-9c2ece07b679"
   },
   "outputs": [
    {
     "ename": "TypeError",
     "evalue": "'str' object does not support item assignment",
     "output_type": "error",
     "traceback": [
      "\u001b[31m---------------------------------------------------------------------------\u001b[39m",
      "\u001b[31mTypeError\u001b[39m                                 Traceback (most recent call last)",
      "\u001b[36mCell\u001b[39m\u001b[36m \u001b[39m\u001b[32mIn[14]\u001b[39m\u001b[32m, line 1\u001b[39m\n\u001b[32m----> \u001b[39m\u001b[32m1\u001b[39m \u001b[43mcourse\u001b[49m\u001b[43m[\u001b[49m\u001b[43m:\u001b[49m\u001b[32;43m4\u001b[39;49m\u001b[43m]\u001b[49m = \u001b[33m\"\u001b[39m\u001b[33mLife\u001b[39m\u001b[33m\"\u001b[39m\n",
      "\u001b[31mTypeError\u001b[39m: 'str' object does not support item assignment"
     ]
    }
   ],
   "source": [
    "course[:4] = \"Life\""
   ]
  },
  {
   "cell_type": "code",
   "execution_count": 15,
   "metadata": {},
   "outputs": [
    {
     "data": {
      "text/plain": [
       "'Life Science'"
      ]
     },
     "execution_count": 15,
     "metadata": {},
     "output_type": "execute_result"
    }
   ],
   "source": [
    "# Alternately try with the replace function\n",
    "course.replace(\"Data\",\"Life\") "
   ]
  },
  {
   "cell_type": "code",
   "execution_count": 16,
   "metadata": {},
   "outputs": [
    {
     "name": "stdout",
     "output_type": "stream",
     "text": [
      "Data Science\n"
     ]
    }
   ],
   "source": [
    "# while it delivers the output\n",
    "print(course) # the immutable string remains unchanged"
   ]
  },
  {
   "cell_type": "code",
   "execution_count": 21,
   "metadata": {},
   "outputs": [
    {
     "ename": "NameError",
     "evalue": "name 'course' is not defined",
     "output_type": "error",
     "traceback": [
      "\u001b[31m---------------------------------------------------------------------------\u001b[39m",
      "\u001b[31mNameError\u001b[39m                                 Traceback (most recent call last)",
      "\u001b[36mCell\u001b[39m\u001b[36m \u001b[39m\u001b[32mIn[21]\u001b[39m\u001b[32m, line 1\u001b[39m\n\u001b[32m----> \u001b[39m\u001b[32m1\u001b[39m \u001b[38;5;28;01mdel\u001b[39;00m \u001b[43mcourse\u001b[49m \u001b[38;5;66;03m# delete the object\u001b[39;00m\n\u001b[32m      2\u001b[39m course \u001b[38;5;66;03m# called right after - error confirms success\u001b[39;00m\n",
      "\u001b[31mNameError\u001b[39m: name 'course' is not defined"
     ]
    }
   ],
   "source": [
    "del course # delete the object\n",
    "course # called right after - error confirms success"
   ]
  },
  {
   "cell_type": "markdown",
   "metadata": {
    "id": "b5b59f30"
   },
   "source": [
    "### String concatenation\n"
   ]
  },
  {
   "cell_type": "code",
   "execution_count": 24,
   "metadata": {
    "id": "4c2cc25b"
   },
   "outputs": [
    {
     "data": {
      "text/plain": [
       "'Wellbeing'"
      ]
     },
     "execution_count": 24,
     "metadata": {},
     "output_type": "execute_result"
    }
   ],
   "source": [
    "#  String concatenation\n",
    "s1 = \"Well\"\n",
    "s2 = \"being\"\n",
    "s1 + s2"
   ]
  },
  {
   "cell_type": "code",
   "execution_count": 25,
   "metadata": {
    "id": "b9a1bc0e"
   },
   "outputs": [
    {
     "data": {
      "text/plain": [
       "'Well-being'"
      ]
     },
     "execution_count": 25,
     "metadata": {},
     "output_type": "execute_result"
    }
   ],
   "source": [
    "# storing the result\n",
    "s3 = s1 + \"-\" + s2\n",
    "s3"
   ]
  },
  {
   "cell_type": "markdown",
   "metadata": {
    "id": "7b1f3379"
   },
   "source": [
    "### String Membership"
   ]
  },
  {
   "cell_type": "code",
   "execution_count": 26,
   "metadata": {
    "id": "86d2b79a"
   },
   "outputs": [
    {
     "data": {
      "text/plain": [
       "'Hello Namaste Hola! Salaam'"
      ]
     },
     "execution_count": 26,
     "metadata": {},
     "output_type": "execute_result"
    }
   ],
   "source": [
    "greeting = \"Hello Namaste Hola! Salaam\"\n",
    "greeting"
   ]
  },
  {
   "cell_type": "code",
   "execution_count": null,
   "metadata": {
    "id": "073089bb",
    "outputId": "9cf537ce-26f1-4ee7-c863-bc38afd3a1f5"
   },
   "outputs": [],
   "source": [
    "'Bonjour' in greeting # Check for presence of substring within a document"
   ]
  },
  {
   "cell_type": "code",
   "execution_count": null,
   "metadata": {
    "id": "8c90f7d0",
    "outputId": "397087df-11a3-44a1-904f-4c025c71ce0b"
   },
   "outputs": [],
   "source": [
    "\"Namaste\" in greeting"
   ]
  },
  {
   "cell_type": "code",
   "execution_count": null,
   "metadata": {},
   "outputs": [],
   "source": [
    "'hola' in greeting # case-sensitive"
   ]
  },
  {
   "cell_type": "code",
   "execution_count": null,
   "id": "1888783d",
   "metadata": {},
   "outputs": [],
   "source": []
  },
  {
   "cell_type": "code",
   "execution_count": 36,
   "id": "8b129635",
   "metadata": {},
   "outputs": [
    {
     "data": {
      "text/plain": [
       "14"
      ]
     },
     "execution_count": 36,
     "metadata": {},
     "output_type": "execute_result"
    }
   ],
   "source": [
    "# task\n",
    "sentence  = \"I want you to figure out how many words are there in this sentence\"\n",
    "# sentence.count(\" \") # count the number of spaces\n",
    "sentence.count(\" \") + 1 # count the number of words\n"
   ]
  },
  {
   "cell_type": "code",
   "execution_count": null,
   "id": "74f71cf6",
   "metadata": {},
   "outputs": [],
   "source": []
  },
  {
   "cell_type": "markdown",
   "metadata": {
    "id": "8c3d4fc9"
   },
   "source": [
    "### String Functions"
   ]
  },
  {
   "cell_type": "code",
   "execution_count": null,
   "metadata": {
    "id": "be81f2fa",
    "outputId": "2164e1ae-255b-4ec4-b248-3e4be2e195c8"
   },
   "outputs": [],
   "source": [
    "mystr2 = \" Hello Everyone    \"\n",
    "mystr2"
   ]
  },
  {
   "cell_type": "code",
   "execution_count": 37,
   "metadata": {
    "id": "d409e01e",
    "outputId": "fb82509e-9f04-4280-fbb5-e05c17ea8d45"
   },
   "outputs": [
    {
     "ename": "NameError",
     "evalue": "name 'mystr2' is not defined",
     "output_type": "error",
     "traceback": [
      "\u001b[31m---------------------------------------------------------------------------\u001b[39m",
      "\u001b[31mNameError\u001b[39m                                 Traceback (most recent call last)",
      "\u001b[36mCell\u001b[39m\u001b[36m \u001b[39m\u001b[32mIn[37]\u001b[39m\u001b[32m, line 1\u001b[39m\n\u001b[32m----> \u001b[39m\u001b[32m1\u001b[39m \u001b[43mmystr2\u001b[49m.count(\u001b[33m'\u001b[39m\u001b[33me\u001b[39m\u001b[33m'\u001b[39m)\n",
      "\u001b[31mNameError\u001b[39m: name 'mystr2' is not defined"
     ]
    }
   ],
   "source": [
    "mystr2.count('e')"
   ]
  },
  {
   "cell_type": "code",
   "execution_count": null,
   "metadata": {},
   "outputs": [],
   "source": []
  },
  {
   "cell_type": "code",
   "execution_count": 38,
   "metadata": {},
   "outputs": [
    {
     "ename": "NameError",
     "evalue": "name 'prep_clean' is not defined",
     "output_type": "error",
     "traceback": [
      "\u001b[31m---------------------------------------------------------------------------\u001b[39m",
      "\u001b[31mNameError\u001b[39m                                 Traceback (most recent call last)",
      "\u001b[36mCell\u001b[39m\u001b[36m \u001b[39m\u001b[32mIn[38]\u001b[39m\u001b[32m, line 1\u001b[39m\n\u001b[32m----> \u001b[39m\u001b[32m1\u001b[39m \u001b[43mprep_clean\u001b[49m.lower() \u001b[38;5;66;03m# lowercase\u001b[39;00m\n",
      "\u001b[31mNameError\u001b[39m: name 'prep_clean' is not defined"
     ]
    }
   ],
   "source": [
    "prep_clean.lower() # lowercase"
   ]
  },
  {
   "cell_type": "code",
   "execution_count": null,
   "metadata": {},
   "outputs": [],
   "source": [
    "prep_clean.upper() # all caps"
   ]
  },
  {
   "cell_type": "code",
   "execution_count": 40,
   "id": "54d1bb86",
   "metadata": {},
   "outputs": [
    {
     "data": {
      "text/plain": [
       "'Introduction To Organic Chemistry'"
      ]
     },
     "execution_count": 40,
     "metadata": {},
     "output_type": "execute_result"
    }
   ],
   "source": [
    "book_title = \"introduction to organic chemistry\"\n",
    "book_title.capitalize() # Capitalize the first letter\n",
    "book_title.title() # Capitalize the first letter of each word\n"
   ]
  },
  {
   "cell_type": "markdown",
   "metadata": {},
   "source": [
    "### format() for a string"
   ]
  },
  {
   "cell_type": "code",
   "execution_count": 46,
   "metadata": {
    "id": "ff8f5f98",
    "outputId": "bf72a4a5-8f64-4c51-fe49-643f4555fe5d"
   },
   "outputs": [
    {
     "data": {
      "text/plain": [
       "'Cost of the three items are 40 , 77 and 55 respectively.'"
      ]
     },
     "execution_count": 46,
     "metadata": {},
     "output_type": "execute_result"
    }
   ],
   "source": [
    "# Combining string & numbers using format method\n",
    "item1 = 40\n",
    "item2 = 55\n",
    "item3 = 77\n",
    "cost= \"Cost of the three items are {} , {} and {} respectively.\".format(item1,item3,item2)\n",
    "cost"
   ]
  },
  {
   "cell_type": "code",
   "execution_count": 44,
   "id": "7ca6b0af",
   "metadata": {},
   "outputs": [
    {
     "data": {
      "text/plain": [
       "'Cost of the three items are 40 , 55 and 77 respectively.'"
      ]
     },
     "execution_count": 44,
     "metadata": {},
     "output_type": "execute_result"
    }
   ],
   "source": [
    "# Combining string & numbers using format method\n",
    "item1 = 40\n",
    "item2 = 55\n",
    "item3 = 77\n",
    "f\"Cost of the three items are {item1} , {5+20+30} and {item3} respectively.\""
   ]
  },
  {
   "cell_type": "code",
   "execution_count": null,
   "id": "edc8a663",
   "metadata": {},
   "outputs": [],
   "source": [
    "# Combining string & numbers using format method\n",
    "item1 = 40\n",
    "item2 = 55\n",
    "item3 = 77\n",
    "f\"Cost of the three items are {item1} , {item2} and {item3} respectively.\""
   ]
  },
  {
   "cell_type": "code",
   "execution_count": null,
   "id": "79877427",
   "metadata": {},
   "outputs": [],
   "source": []
  },
  {
   "cell_type": "code",
   "execution_count": 42,
   "metadata": {},
   "outputs": [
    {
     "name": "stdout",
     "output_type": "stream",
     "text": [
      "The conglomerate Tata & Sons has several companies with Tata Motors, TCS and Air India into manufacturing, services and aviation.\n"
     ]
    }
   ],
   "source": [
    "car=\"Tata Motors\"\n",
    "consult = \"TCS\"\n",
    "airline = \"Air India\"\n",
    "tata_grp = \"The conglomerate Tata & Sons has several companies with {}, {} and {} into manufacturing, services and aviation.\"\n",
    "print(tata_grp.format(car,consult,airline))"
   ]
  },
  {
   "cell_type": "code",
   "execution_count": null,
   "id": "75f17453",
   "metadata": {},
   "outputs": [],
   "source": []
  },
  {
   "cell_type": "code",
   "execution_count": null,
   "id": "3725dcf7",
   "metadata": {},
   "outputs": [],
   "source": []
  },
  {
   "cell_type": "markdown",
   "metadata": {
    "id": "ed364f92"
   },
   "source": [
    "# Typecasting"
   ]
  },
  {
   "cell_type": "markdown",
   "metadata": {
    "id": "1eee6a0d"
   },
   "source": [
    "Type Casting is the process of a variable's data type converted into another type in order for an operation to be performed.\n",
    "\n",
    "* There are 2 ways in which typecasting occurs:\n",
    "\n",
    "1) Autotypecasting\n",
    "\n",
    "2) Forced Typecasting"
   ]
  },
  {
   "cell_type": "markdown",
   "metadata": {
    "id": "202310c5"
   },
   "source": [
    "## Auto Typecasting\n",
    "* The Python interpreter automatically converts one data type to another without any user involvement."
   ]
  },
  {
   "cell_type": "code",
   "execution_count": null,
   "metadata": {
    "id": "85f98668",
    "outputId": "5cef69de-3df3-49d8-8bdb-7a4d514c7ad9",
    "scrolled": true
   },
   "outputs": [],
   "source": [
    "4 + 5.67 + False\n",
    "##( background processing of the code) due to the\n",
    "##higher hierarchy of float datatype"
   ]
  },
  {
   "cell_type": "code",
   "execution_count": null,
   "metadata": {
    "id": "5ae66f4a",
    "outputId": "edc3836e-2555-4652-f091-77cfdeaa41ee"
   },
   "outputs": [],
   "source": [
    "4 + 5.6 + False + True"
   ]
  },
  {
   "cell_type": "code",
   "execution_count": null,
   "metadata": {
    "colab": {
     "base_uri": "https://localhost:8080/",
     "height": 166
    },
    "executionInfo": {
     "elapsed": 8,
     "status": "error",
     "timestamp": 1652354423989,
     "user": {
      "displayName": "Rohan Ravindra Sohani",
      "userId": "06993368347103045844"
     },
     "user_tz": -330
    },
    "id": "d2d1107a",
    "outputId": "d1145384-0b36-470d-c901-9c394cf2fb51"
   },
   "outputs": [],
   "source": [
    "4+3+'data'+6.7"
   ]
  },
  {
   "cell_type": "code",
   "execution_count": null,
   "id": "0b878637",
   "metadata": {},
   "outputs": [],
   "source": [
    "# Int - float, float - int - possible\n",
    "# int/ float - str - possible\n",
    "# str - int/float - possible, given the str is convertible to int/float\n",
    "# str - bool - possible, given the str is convertible to bool"
   ]
  },
  {
   "cell_type": "code",
   "execution_count": null,
   "id": "e385227d",
   "metadata": {},
   "outputs": [],
   "source": [
    "a = 10\n",
    "b = 20\n",
    "\n",
    "int = a+b\n",
    "float = a+b\n",
    "str = a+b\n",
    "bool = a+b\n",
    "print(int)\n",
    "print(float)\n",
    "print(str)\n",
    "print(bool)"
   ]
  },
  {
   "cell_type": "code",
   "execution_count": null,
   "id": "3c3f4f4b",
   "metadata": {},
   "outputs": [],
   "source": []
  },
  {
   "cell_type": "markdown",
   "metadata": {
    "id": "86d08aae"
   },
   "source": [
    "## Forced Typecasting"
   ]
  },
  {
   "cell_type": "code",
   "execution_count": null,
   "metadata": {
    "id": "d42d6532"
   },
   "outputs": [],
   "source": [
    "a=9.7 # consider a float variable"
   ]
  },
  {
   "cell_type": "code",
   "execution_count": null,
   "metadata": {
    "id": "5c4bd907",
    "outputId": "a15e6835-34ce-4423-cb9d-e22c2ad96fa5"
   },
   "outputs": [],
   "source": [
    "type(a)"
   ]
  },
  {
   "cell_type": "code",
   "execution_count": null,
   "metadata": {
    "id": "52c773ff",
    "outputId": "9a733539-974e-4cc7-8178-a74375a463e9"
   },
   "outputs": [],
   "source": [
    "int(a) # drags to base integer value"
   ]
  },
  {
   "cell_type": "code",
   "execution_count": null,
   "metadata": {
    "id": "dc49132c"
   },
   "outputs": [],
   "source": [
    "num=5 # consider an integer variable"
   ]
  },
  {
   "cell_type": "code",
   "execution_count": null,
   "metadata": {
    "id": "afe1b8fe",
    "outputId": "ab1e2fae-0126-4a5f-db7c-4bcceff6f682"
   },
   "outputs": [],
   "source": [
    "float(num)"
   ]
  },
  {
   "cell_type": "code",
   "execution_count": null,
   "metadata": {
    "id": "5263d0e3",
    "outputId": "f012207f-28c1-4c18-bcba-84b521c2ae32"
   },
   "outputs": [],
   "source": [
    "bool(num)  # boolean for any value except 0 is True"
   ]
  },
  {
   "cell_type": "code",
   "execution_count": null,
   "metadata": {
    "id": "0ba33ee8",
    "outputId": "1c24056a-fe6a-49d2-d11f-d91285b29803",
    "scrolled": true
   },
   "outputs": [],
   "source": [
    "str(num)"
   ]
  },
  {
   "cell_type": "code",
   "execution_count": null,
   "metadata": {
    "id": "423ea644"
   },
   "outputs": [],
   "source": [
    "switch=False # consider a boolean variable"
   ]
  },
  {
   "cell_type": "code",
   "execution_count": null,
   "metadata": {
    "id": "d2f19935",
    "outputId": "6a515d9f-38bd-47b2-ce48-21c0195fff39"
   },
   "outputs": [],
   "source": [
    "float(switch)"
   ]
  },
  {
   "cell_type": "code",
   "execution_count": null,
   "metadata": {
    "id": "26b1d16e",
    "outputId": "2e1abf4e-d337-4a55-f252-922115d32aae"
   },
   "outputs": [],
   "source": [
    "int(switch)"
   ]
  },
  {
   "cell_type": "code",
   "execution_count": null,
   "metadata": {
    "id": "1a52f466",
    "outputId": "ae0a1f3d-6485-4b83-921a-9c9e153cbc87"
   },
   "outputs": [],
   "source": [
    "str(switch)"
   ]
  },
  {
   "cell_type": "code",
   "execution_count": null,
   "metadata": {
    "id": "2613aa7d"
   },
   "outputs": [],
   "source": [
    "doc='Happiness' # Consider a string"
   ]
  },
  {
   "cell_type": "code",
   "execution_count": null,
   "metadata": {
    "id": "c3cbcdb2",
    "outputId": "46363522-79a0-435e-b5a7-1967416951d3"
   },
   "outputs": [],
   "source": [
    "float(doc)"
   ]
  },
  {
   "cell_type": "code",
   "execution_count": null,
   "metadata": {
    "id": "40f399e5",
    "outputId": "af69c6fb-8e20-4eb8-8e42-fc61e4fe9824"
   },
   "outputs": [],
   "source": [
    "int(doc)"
   ]
  },
  {
   "cell_type": "raw",
   "metadata": {},
   "source": [
    "The numerical equivalent of a string is usually non-existent. "
   ]
  },
  {
   "cell_type": "code",
   "execution_count": null,
   "metadata": {
    "id": "31946450"
   },
   "outputs": [],
   "source": [
    "blank_str=''"
   ]
  },
  {
   "cell_type": "code",
   "execution_count": null,
   "metadata": {
    "id": "1fee0875",
    "outputId": "aa979e07-2441-4751-d374-3bf3015f6c34"
   },
   "outputs": [],
   "source": [
    "bool(blank_str) # empty string ~ null value or 0"
   ]
  },
  {
   "cell_type": "code",
   "execution_count": null,
   "metadata": {
    "id": "bd684c6f",
    "outputId": "efaac74d-183c-41cf-e3e8-e5222355dba2"
   },
   "outputs": [],
   "source": [
    "int('2') # an exception"
   ]
  },
  {
   "cell_type": "code",
   "execution_count": null,
   "metadata": {
    "id": "2c1e5c2c",
    "outputId": "828371ac-2509-4c14-f604-780223509aeb"
   },
   "outputs": [],
   "source": [
    "float('abc')  # Convert the datatype to float"
   ]
  },
  {
   "cell_type": "code",
   "execution_count": null,
   "metadata": {
    "id": "395b4aa7",
    "outputId": "89ec310d-ed5d-44fb-b8c2-b28688feeaeb",
    "scrolled": true
   },
   "outputs": [],
   "source": [
    "bool(8.9)#converting float type into bool"
   ]
  },
  {
   "cell_type": "code",
   "execution_count": null,
   "metadata": {
    "id": "a48861ee",
    "outputId": "bba63f1e-a5a9-455c-f61f-809438ef44ef",
    "scrolled": true
   },
   "outputs": [],
   "source": [
    "bool(0)"
   ]
  },
  {
   "cell_type": "code",
   "execution_count": null,
   "metadata": {
    "id": "00a8c882",
    "outputId": "2c76b4c7-3f46-4a60-a80a-6d695900129d",
    "scrolled": true
   },
   "outputs": [],
   "source": [
    "bool(-1)"
   ]
  },
  {
   "cell_type": "code",
   "execution_count": null,
   "metadata": {
    "id": "85eff29b",
    "outputId": "18bc98de-936d-4452-f99c-6fd3da734426"
   },
   "outputs": [],
   "source": [
    "# Guess the output\n",
    "int(1.5)+4+bool(0)\n"
   ]
  },
  {
   "cell_type": "code",
   "execution_count": null,
   "metadata": {
    "id": "d63dad07",
    "outputId": "047f3686-c0ea-424c-fdaa-a1d42268c8d2"
   },
   "outputs": [],
   "source": [
    "int(5.6)+float(6)+bool(23)\n"
   ]
  },
  {
   "cell_type": "code",
   "execution_count": null,
   "metadata": {
    "id": "06aee519",
    "outputId": "d25165bc-5017-47eb-ab1d-6bda1c5f499a"
   },
   "outputs": [],
   "source": [
    "int(6.5)+1.2+int(5.5)+ bool(0)"
   ]
  }
 ],
 "metadata": {
  "colab": {
   "provenance": []
  },
  "kernelspec": {
   "display_name": "Python 3",
   "language": "python",
   "name": "python3"
  },
  "language_info": {
   "codemirror_mode": {
    "name": "ipython",
    "version": 3
   },
   "file_extension": ".py",
   "mimetype": "text/x-python",
   "name": "python",
   "nbconvert_exporter": "python",
   "pygments_lexer": "ipython3",
   "version": "3.11.9"
  }
 },
 "nbformat": 4,
 "nbformat_minor": 5
}
